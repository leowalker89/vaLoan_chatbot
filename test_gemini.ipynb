{
 "cells": [
  {
   "cell_type": "code",
   "execution_count": 2,
   "metadata": {},
   "outputs": [
    {
     "name": "stderr",
     "output_type": "stream",
     "text": [
      "/Users/leowalker/anaconda3/envs/interviewEnv/lib/python3.11/site-packages/tqdm/auto.py:21: TqdmWarning: IProgress not found. Please update jupyter and ipywidgets. See https://ipywidgets.readthedocs.io/en/stable/user_install.html\n",
      "  from .autonotebook import tqdm as notebook_tqdm\n"
     ]
    }
   ],
   "source": [
    "import textwrap\n",
    "import chromadb\n",
    "import numpy as np\n",
    "import pandas as pd\n",
    "\n",
    "import google.generativeai as genai\n",
    "import google.ai.generativelanguage as glm\n",
    "from langchain_google_genai import GoogleGenerativeAIEmbeddings\n",
    "from chromadb import Documents, EmbeddingFunction, Embeddings\n",
    "\n",
    "import os\n",
    "from dotenv import load_dotenv"
   ]
  },
  {
   "cell_type": "code",
   "execution_count": 3,
   "metadata": {},
   "outputs": [
    {
     "data": {
      "text/plain": [
       "True"
      ]
     },
     "execution_count": 3,
     "metadata": {},
     "output_type": "execute_result"
    }
   ],
   "source": [
    "load_dotenv()\n",
    "\n",
    "# gemini_api_key = os.getenv(\"GOOGLE_API_KEY\")\n",
    "\n",
    "# genai.configure(api_key=gemini_api_key)"
   ]
  },
  {
   "cell_type": "code",
   "execution_count": null,
   "metadata": {},
   "outputs": [],
   "source": []
  },
  {
   "cell_type": "code",
   "execution_count": null,
   "metadata": {},
   "outputs": [],
   "source": []
  },
  {
   "cell_type": "markdown",
   "metadata": {},
   "source": [
    "Lets work on chunking the pdfs"
   ]
  },
  {
   "cell_type": "code",
   "execution_count": 4,
   "metadata": {},
   "outputs": [],
   "source": [
    "from langchain_community.document_loaders import PyPDFLoader\n",
    "from langchain.retrievers import ParentDocumentRetriever\n",
    "\n",
    "from langchain.storage import InMemoryStore, LocalFileStore\n",
    "from langchain.storage._lc_store import create_kv_docstore\n",
    "from langchain.text_splitter import RecursiveCharacterTextSplitter\n",
    "from langchain_community.document_loaders import TextLoader\n",
    "from langchain_community.vectorstores import Chroma\n",
    "from langchain_openai import OpenAIEmbeddings\n",
    "from langchain_google_genai import GoogleGenerativeAIEmbeddings"
   ]
  },
  {
   "cell_type": "code",
   "execution_count": 5,
   "metadata": {},
   "outputs": [],
   "source": [
    "docs = []\n",
    "\n",
    "for file in os.listdir(\"pdfs\"):\n",
    "    if file.endswith(\".pdf\"):\n",
    "        loader = PyPDFLoader(\"pdfs/\" + file)\n",
    "        docs.extend(loader.load())"
   ]
  },
  {
   "cell_type": "code",
   "execution_count": 6,
   "metadata": {},
   "outputs": [],
   "source": [
    "# Googles embedding is 768 dimensions\n",
    "embeddings = GoogleGenerativeAIEmbeddings(model=\"models/embedding-001\")"
   ]
  },
  {
   "cell_type": "code",
   "execution_count": 7,
   "metadata": {},
   "outputs": [],
   "source": [
    "# This text splitter is used to create the child documents\n",
    "child_splitter = RecursiveCharacterTextSplitter(chunk_size=400)\n",
    "# The vectorstore to use to index the child chunks\n",
    "vectorstore = Chroma(\n",
    "    collection_name=\"genai_full_documents\", embedding_function= GoogleGenerativeAIEmbeddings(model=\"models/embedding-001\"), persist_directory=\"vdb\"\n",
    ")\n",
    "# The storage layer for the parent documents\n",
    "store = InMemoryStore()\n",
    "retriever = ParentDocumentRetriever(\n",
    "    vectorstore=vectorstore,\n",
    "    docstore=store,\n",
    "    child_splitter=child_splitter,\n",
    ")"
   ]
  },
  {
   "cell_type": "code",
   "execution_count": 9,
   "metadata": {},
   "outputs": [
    {
     "data": {
      "text/plain": [
       "<langchain.storage.in_memory.InMemoryBaseStore at 0x28c310190>"
      ]
     },
     "execution_count": 9,
     "metadata": {},
     "output_type": "execute_result"
    }
   ],
   "source": [
    "store"
   ]
  },
  {
   "cell_type": "code",
   "execution_count": 12,
   "metadata": {},
   "outputs": [],
   "source": [
    "retriever.add_documents(docs)"
   ]
  },
  {
   "cell_type": "code",
   "execution_count": 6,
   "metadata": {},
   "outputs": [],
   "source": [
    "vectorstore = Chroma(\n",
    "    collection_name=\"genai_full_documents\", embedding_function= GoogleGenerativeAIEmbeddings(model=\"models/embedding-001\"), persist_directory=\"vdb\"\n",
    ")"
   ]
  },
  {
   "cell_type": "code",
   "execution_count": 15,
   "metadata": {},
   "outputs": [
    {
     "data": {
      "text/plain": [
       "<langchain_community.vectorstores.chroma.Chroma at 0x28a477a50>"
      ]
     },
     "execution_count": 15,
     "metadata": {},
     "output_type": "execute_result"
    }
   ],
   "source": []
  },
  {
   "cell_type": "code",
   "execution_count": 7,
   "metadata": {},
   "outputs": [],
   "source": [
    "sub_docs = vectorstore.similarity_search(\"VA Loan Limitations\", k=5)"
   ]
  },
  {
   "cell_type": "code",
   "execution_count": 8,
   "metadata": {},
   "outputs": [
    {
     "data": {
      "text/plain": [
       "[Document(page_content='1. What is the maximum amount I can borrow with a V A loan?\\nThe ma ximum  amount  you  can  borrow  with  a  V A  loan  is  not  directly\\ndetermined  by  the  V A . Instead , it’ s  set  by  your  lender , who  typically\\nadheres  to  guidelines  such  as  the  conforming  loan  limit  established\\nby the  Federal  Housing  Finance  Agency  ( FHF A ). The  cap  on  loan', metadata={'doc_id': 'b657749f-34de-4c0c-9727-bfe6e4b03e35', 'page': 54, 'source': 'pdfs/Your VA Loan Blueprint_ Dodge Pitfalls, Create Life-changing Wealth - Kyle Petitt.pdf'}),\n",
       " Document(page_content='How  The  VA  Loan  Works\\n \\nThe V A  home  loan  is  a  highly  beneﬁcial  mortgage  program .\\n \\nIt is important  to  note  that  the  V A  does  not  grant  the  mortgage\\napproval  itself .\\n \\nInstead , they  establish  the  guidelines  and  provide  mortgage\\ninsurance  in  case  of  default .\\n \\nThe actual  funding  is  provided  by  mortgage  lenders .', metadata={'doc_id': 'e34d3a8e-0e39-4422-9c5f-bcbfeae407e4', 'page': 10, 'source': 'pdfs/VA Loans Made Easy_ Your Complete Guide To Getting A VA Home Loan - Carlos Scarpero.pdf'}),\n",
       " Document(page_content='to your  V A  beneﬁts .\\nV A Loan  Eligibility\\nProspective  borrowers  don’t  need  to  have  a  home  picked  out  before\\nstarting  the  loan  approval  process . In  fact , we  typica lly  advise\\nborrowers  to  wait  until  they  ha ve  a  better  handle  on  what  type  of  loan', metadata={'doc_id': '86d26db7-eafa-401b-a82b-ca66674cf65c', 'page': 33, 'source': 'pdfs/Book on VA Loans_ An Essential Guide to Maximizing Your Home Loan Benefits, The - Chris Birk.pdf'}),\n",
       " Document(page_content='closing  or  even  upend  the  entire  process .\\nV A Loan  Limits\\nGetting  preapproved  for  a  V A  loan  involves  ﬁlling  out  a  loan\\napplication  ( yo ur  loan  ofﬁcer  will  do  most  of  the  heavy  lift ing on  t hat )\\nand pro viding  s ome  ﬁnancial  information  to  your  lender . First , though ,\\nit’ s important  to  consider  one  of  those  early  nagging  questions : How', metadata={'doc_id': 'f9406cc1-9d40-4337-bc96-27584313a895', 'page': 40, 'source': 'pdfs/Book on VA Loans_ An Essential Guide to Maximizing Your Home Loan Benefits, The - Chris Birk.pdf'}),\n",
       " Document(page_content='Get a  sense  of  your  purchasing  power  and  what  you  can  af ford .\\nV A Loan  Calculator . com\\nLearn  more  about  the  V A  Funding  Fee  and  whether  you’re\\nexempt  at  V A Funding  Fee. com\\nW e’re  not  the  V A  nor  are  we  afﬁliated  with  any  government\\nagencies . Y ou  can  visit  the  V As  online  home  loans  hub  at\\nHomeloans . V A . gov', metadata={'doc_id': '448405fd-b1ce-4b3d-aa8c-93939438bf69', 'page': 7, 'source': 'pdfs/Book on VA Loans_ An Essential Guide to Maximizing Your Home Loan Benefits, The - Chris Birk.pdf'})]"
      ]
     },
     "execution_count": 8,
     "metadata": {},
     "output_type": "execute_result"
    }
   ],
   "source": []
  },
  {
   "cell_type": "code",
   "execution_count": 51,
   "metadata": {},
   "outputs": [],
   "source": [
    "retrieved_docs = retriever.get_relevant_documents(\"VA Loan Limitations\")"
   ]
  },
  {
   "cell_type": "code",
   "execution_count": 52,
   "metadata": {},
   "outputs": [
    {
     "data": {
      "text/plain": [
       "2056"
      ]
     },
     "execution_count": 52,
     "metadata": {},
     "output_type": "execute_result"
    }
   ],
   "source": [
    "len(retrieved_docs[0].page_content)"
   ]
  },
  {
   "cell_type": "code",
   "execution_count": 53,
   "metadata": {},
   "outputs": [
    {
     "data": {
      "text/plain": [
       "[Document(page_content='1. What is the maximum amount I can borrow with a V A loan?\\nThe ma ximum  amount  you  can  borrow  with  a  V A  loan  is  not  directly\\ndetermined  by  the  V A . Instead , it’ s  set  by  your  lender , who  typically\\nadheres  to  guidelines  such  as  the  conforming  loan  limit  established\\nby the  Federal  Housing  Finance  Agency  ( FHF A ). The  cap  on  loan\\namounts  is  also  inﬂuenced  b y  factors  such  as  your  debt-to-income\\nratio  and  credit  score . Howev er , your  entitlement , which  is  the  portion\\nof the  loan  that  the  V A  guarantees , is  determined  by  the  V A .\\nIf you  have  full  entitlement , there  is  no  speciﬁc  limit  on  t he  amount\\nyou can  borrow  for  your  hom e  loan . This  information  comes  directly\\nfrom  the  V A ’ s  website .\\nY ou mi ght  be  wondering  what  happens  if  you  don’t  have  enough\\nentitlement  left . In  such  case s , you  can  still  purchase  a  house , but  it\\nwill require  a  down  paymen t . Y our  lender  can  help  ca lculate  the\\namount  required  for  this  down  payment  according  to  V A  guidelines .\\nY ou are  considered  to  have  full  entitlement  if  any  of  th e  following\\nconditions  apply :\\nY ou’ve  never  used  your  home  loan  beneﬁt , or\\nY ou’ve  fully  paid  of f  a  previou s  V A  loan  and  sold  the  property\\n( which  would  restore  your  full  entitlement ), or\\nY ou’ve  used  your  home  loan  beneﬁt  but  had  a  foreclosure  or\\ncompromise  claim  ( also  known  as  a  short  sale ) and  have\\nfully repaid  the  V A .\\nIt’ s important  to  note  that  the  concept  of  a  loan  limit  capped  at  the\\ncounty  level  is  outdated . This  only  applies  if  you  have  an  o utstanding\\nV A loan . So , there’ s  no  need  to  consider  county  loan  limits  if  you  have\\nfull entitlement  and  no  existing  V A  loans .\\n2. What are the closing costs for a V A loan?\\nClosing  costs  are  the  fees  associated  with  getting  a  mortgage . They\\ncan include  things  like  appraisal  fees , origination  fees , title  insurance ,', metadata={'source': 'pdfs/Your VA Loan Blueprint_ Dodge Pitfalls, Create Life-changing Wealth - Kyle Petitt.pdf', 'page': 54}),\n",
       " Document(page_content='How  The  VA  Loan  Works\\n \\nThe V A  home  loan  is  a  highly  beneﬁcial  mortgage  program .\\n \\nIt is important  to  note  that  the  V A  does  not  grant  the  mortgage\\napproval  itself .\\n \\nInstead , they  establish  the  guidelines  and  provide  mortgage\\ninsurance  in  case  of  default .\\n \\nThe actual  funding  is  provided  by  mortgage  lenders .\\n \\nHere  are  some  advantages  of  opting  for  a  V A  home  loan .\\n \\nNo Down  Payment\\n \\nOne  of  the  primary  beneﬁts  is  there  is  no  down  payment .\\n \\nThis  is  excellent  news  and  makes  things  much  easier  for  most  people\\ntrying  to  buy  a  house .\\n \\nLower  Rates  and  Fees\\n \\nAnother  great  beneﬁt  of  the  V A  home  loan  program  is  its  lower  rates\\nand fees  than  a  conventional  or  FHA  mortgage .\\n \\nFlexible  Underwriting', metadata={'source': 'pdfs/VA Loans Made Easy_ Your Complete Guide To Getting A VA Home Loan - Carlos Scarpero.pdf', 'page': 10}),\n",
       " Document(page_content='All-But-Impossible  Uses\\nW e could  also  call  this  the  “ Manufactured  Homes  and  Construction\\nLoans”  section .\\nThere  are  a  co uple  of  additional  acceptable  V A  loan  uses  that\\naren’t  mentioned  above . The  reason  is  because  they’re  becoming\\nincreasingly  difﬁcult , if  not  downright  impossible , to  bring  to  fruition  in\\nthe current  lending  climate .\\nManufactured  homes  are  one  of  those  eligible  purposes  that\\nwork  on  paper  but  rarely  tra nslate  to  the  real  world . The  V A  allows\\nqualiﬁed  borrowers  to  get  a  government-backed  loan  as  long  as  the\\nmanufactured  home  has  a  permanent  foundation . But  lenders  as  a\\nwhole  h ave  all  but  stopped  funding  mobile  home  purchases . Military\\nbuyers  need  to  know  going  in  that  they’re  probably  not  going  to  ﬁnd  a\\nV A lender  willing  to  ﬁnance  this  kind  of  purchase .\\nService  members  seeking  this  type  of  housing  solution  typically\\nobtain  ﬁnancing  through  a  manufactured  home  distributor .\\nConstruction  lo ans  are  a  bit  more  complicated . As  with  most\\nmanufactured  homes , V A  lenders  have  all  but  stopped  ﬁnancing\\nloans  to  build  n ew  homes . There’ s  simply  too  much  risk  a nd  lenders\\naren’t  willing  to  outlay  the  cap ital  it  takes  to  ﬁnance  new  construction .\\nIn t he  same  breath , this  doesn’t  mean  that  service  members\\ninterested  in  building  their  dream  home  can’t  somehow  utilize  their\\nV A beneﬁts .\\nThere  is  a  wa y  to  reconcile  the  two  by  using  what’ s  ca lled  a\\nConstruction-to-Permanent  Reﬁnance  Loan . That’ s  a  mouthful ,\\nand we’ll  explain  it  fully  when  we  start  examining  reﬁnance  loans  in\\nChapter  6. For  now , just  note  that  gettin g  a  V A  lender  to  ﬁnance  your\\nhome  construction  is  probably  a  no-go , which  means  you’ll  have  to  go\\nthrough  a  builder . As  we’ll  explain  later , there  is  a  way  to  tie  it  all  back\\nto your  V A  beneﬁts .\\nV A Loan  Eligibility\\nProspective  borrowers  don’t  need  to  have  a  home  picked  out  before\\nstarting  the  loan  approval  process . In  fact , we  typica lly  advise\\nborrowers  to  wait  until  they  ha ve  a  better  handle  on  what  type  of  loan', metadata={'source': 'pdfs/Book on VA Loans_ An Essential Guide to Maximizing Your Home Loan Benefits, The - Chris Birk.pdf', 'page': 33}),\n",
       " Document(page_content='The V A  tells  mortgage  lenders  ﬂat  out : The  COE  is  the  only\\nreliable  way  to  prove  a  vetera n  is  eligible  for  a  loan . But  this  doesn’t\\nhave  to  be  your  ﬁrst  step . W e  can  and  often  do  i ssue  loan\\npreapproval  without  a  Certiﬁcate  of  Eligibility . But  obtaining  eligibility\\ndetermination  is  important  early  in  the  process . Any  delays  or\\nquestions  abo ut  the  veteran’ s  status  down  the  road  could  delay\\nclosing  or  even  upend  the  entire  process .\\nV A Loan  Limits\\nGetting  preapproved  for  a  V A  loan  involves  ﬁlling  out  a  loan\\napplication  ( yo ur  loan  ofﬁcer  will  do  most  of  the  heavy  lift ing on  t hat )\\nand pro viding  s ome  ﬁnancial  information  to  your  lender . First , though ,\\nit’ s important  to  consider  one  of  those  early  nagging  questions : How\\nmuch  house  can  I  buy ?\\nIt’ s not  always  an  easy  ques tion  to  answer , especially  when  it\\ncomes  to  V A  lo ans . If  we  go  by  the  book , the  response  is  that  there\\ntechnically  isn’t  a  ceiling  for  a  V A-backed  home  loan . The  reality  is  a\\ndif ferent  story .\\nRemember  that  each  veteran  has  an  entitlement , an  amount  that\\nthe V A  pledges  to  guaranty  to  the  lender  in  case  the  borrower\\ndefaults . T oday , the  basic  entitlement  amount  is  $ 36,000.\\nSince  the  V A  c overs  up  to  a  quarter  of  a  borrower ’ s  mor tgage ,\\nsome  simple  math  dictates  that  the  maximum  loan  amount  for  most\\nveterans  would  be  $ 144,000 ( $ 36,000 x  4).\\nWhile  that  ﬁgure  is  nothing  to  sneeze  at , V A  guaranties  have\\nhistorically  handicapped  military  buyers  in  some  of  the  country’ s\\ncostlier  areas . T o  stay  competitive  with  other  loan  products , the\\nagency  began  to  link  its  guaranty  amounts  to  the  conforming  loan\\nlimits  for conventional  loans .\\nAt present , the  conforming  lo an  limit  in  most  parts  of  the  c ountry\\nis $ 417,000. Since  the  V A  guaranties  a  quarter  of  a  borrower ’ s\\nmortgage , the  agency  basic ally  had  to  create  a  new , secondary\\nentitlement  to  cover  the  gap . That  secondary  entitlement  of  $ 68,250\\nautomatically  kicks  in  for  any  loan  greater  than  $ 144,000.', metadata={'source': 'pdfs/Book on VA Loans_ An Essential Guide to Maximizing Your Home Loan Benefits, The - Chris Birk.pdf', 'page': 40})]"
      ]
     },
     "execution_count": 53,
     "metadata": {},
     "output_type": "execute_result"
    }
   ],
   "source": [
    "retrieved_docs"
   ]
  },
  {
   "cell_type": "markdown",
   "metadata": {},
   "source": [
    "Lets try retrieving larger chunks"
   ]
  },
  {
   "cell_type": "code",
   "execution_count": 54,
   "metadata": {},
   "outputs": [],
   "source": [
    "# This text splitter is used to create the parent documents\n",
    "parent_splitter = RecursiveCharacterTextSplitter(chunk_size=2000)\n",
    "# This text splitter is used to create the child documents\n",
    "# It should create documents smaller than the parent\n",
    "child_splitter = RecursiveCharacterTextSplitter(chunk_size=400)\n",
    "# The vectorstore to use to index the child chunks\n",
    "vectorstore = Chroma(\n",
    "    collection_name=\"genai_split_parents\", embedding_function=GoogleGenerativeAIEmbeddings(model=\"models/embedding-001\")\n",
    ")\n",
    "# The storage layer for the parent documents\n",
    "store = InMemoryStore()"
   ]
  },
  {
   "cell_type": "code",
   "execution_count": 55,
   "metadata": {},
   "outputs": [],
   "source": [
    "retriever = ParentDocumentRetriever(\n",
    "    vectorstore=vectorstore,\n",
    "    docstore=store,\n",
    "    child_splitter=child_splitter,\n",
    "    parent_splitter=parent_splitter,\n",
    ")"
   ]
  },
  {
   "cell_type": "code",
   "execution_count": 56,
   "metadata": {},
   "outputs": [],
   "source": [
    "retriever.add_documents(docs)"
   ]
  },
  {
   "cell_type": "code",
   "execution_count": 57,
   "metadata": {},
   "outputs": [],
   "source": [
    "sub_docs = vectorstore.similarity_search(\"VA Loan Limitations\")"
   ]
  },
  {
   "cell_type": "code",
   "execution_count": 58,
   "metadata": {},
   "outputs": [
    {
     "name": "stdout",
     "output_type": "stream",
     "text": [
      "VA Loans  Made  Easy\n",
      " \n",
      "By: Carlos  Scarpero\n"
     ]
    }
   ],
   "source": [
    "print(sub_docs[0].page_content)"
   ]
  },
  {
   "cell_type": "code",
   "execution_count": 59,
   "metadata": {},
   "outputs": [],
   "source": [
    "retrieved_docs = retriever.get_relevant_documents(\"VA Loan Limitations\")"
   ]
  },
  {
   "cell_type": "code",
   "execution_count": 60,
   "metadata": {},
   "outputs": [
    {
     "data": {
      "text/plain": [
       "43"
      ]
     },
     "execution_count": 60,
     "metadata": {},
     "output_type": "execute_result"
    }
   ],
   "source": [
    "len(retrieved_docs[0].page_content)"
   ]
  },
  {
   "cell_type": "code",
   "execution_count": 61,
   "metadata": {},
   "outputs": [
    {
     "name": "stdout",
     "output_type": "stream",
     "text": [
      "VA Loans  Made  Easy\n",
      " \n",
      "By: Carlos  Scarpero\n"
     ]
    }
   ],
   "source": [
    "print(retrieved_docs[0].page_content)"
   ]
  },
  {
   "cell_type": "code",
   "execution_count": 1,
   "metadata": {},
   "outputs": [
    {
     "name": "stderr",
     "output_type": "stream",
     "text": [
      "/Users/leowalker/anaconda3/envs/interviewEnv/lib/python3.11/site-packages/tqdm/auto.py:21: TqdmWarning: IProgress not found. Please update jupyter and ipywidgets. See https://ipywidgets.readthedocs.io/en/stable/user_install.html\n",
      "  from .autonotebook import tqdm as notebook_tqdm\n"
     ]
    }
   ],
   "source": [
    "from langchain_google_genai import GoogleGenerativeAIEmbeddings\n",
    "from langchain.text_splitter import RecursiveCharacterTextSplitter\n",
    "from langchain_community.document_loaders import PyPDFLoader\n",
    "from langchain.storage import InMemoryStore, LocalFileStore\n",
    "from langchain.storage._lc_store import create_kv_docstore\n",
    "from langchain_community.vectorstores import Chroma\n",
    "from langchain.retrievers import ParentDocumentRetriever\n",
    "import os\n",
    "from dotenv import load_dotenv\n",
    "\n",
    "\n",
    "load_dotenv()\n",
    "\n",
    "docs = []\n",
    "\n",
    "for file in os.listdir(\"pdfs\"):\n",
    "    if file.endswith(\".pdf\"):\n",
    "        loader = PyPDFLoader(\"pdfs/\" + file)\n",
    "        docs.extend(loader.load())\n",
    "\n",
    "\n",
    "# This text splitter is used to create the parent documents\n",
    "parent_splitter = RecursiveCharacterTextSplitter(chunk_size=2000)\n",
    "# This text splitter is used to create the child documents\n",
    "# It should create documents smaller than the parent\n",
    "child_splitter = RecursiveCharacterTextSplitter(chunk_size=400)\n",
    "persist_directory = 'vdb'\n",
    "fs = LocalFileStore(\"./parent_child_directory\")\n",
    "store = create_kv_docstore(fs)\n",
    "vectorstore = Chroma(\n",
    "    collection_name=\"genai_full_documents\", \n",
    "    embedding_function= GoogleGenerativeAIEmbeddings(model=\"models/embedding-001\"), \n",
    "    persist_directory=persist_directory\n",
    ")\n",
    "# The storage layer for the parent documents\n",
    "retriever = ParentDocumentRetriever(\n",
    "    vectorstore=vectorstore,\n",
    "    docstore=store,\n",
    "    child_splitter=child_splitter,\n",
    "    parent_splitter=parent_splitter,\n",
    ")\n",
    "retriever.add_documents(docs)"
   ]
  },
  {
   "cell_type": "code",
   "execution_count": null,
   "metadata": {},
   "outputs": [],
   "source": []
  },
  {
   "cell_type": "code",
   "execution_count": null,
   "metadata": {},
   "outputs": [],
   "source": []
  }
 ],
 "metadata": {
  "kernelspec": {
   "display_name": "interviewEnv",
   "language": "python",
   "name": "python3"
  },
  "language_info": {
   "codemirror_mode": {
    "name": "ipython",
    "version": 3
   },
   "file_extension": ".py",
   "mimetype": "text/x-python",
   "name": "python",
   "nbconvert_exporter": "python",
   "pygments_lexer": "ipython3",
   "version": "3.11.7"
  }
 },
 "nbformat": 4,
 "nbformat_minor": 2
}
