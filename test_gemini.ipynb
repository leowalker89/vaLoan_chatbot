{
 "cells": [
  {
   "cell_type": "code",
   "execution_count": 1,
   "metadata": {},
   "outputs": [
    {
     "name": "stderr",
     "output_type": "stream",
     "text": [
      "/Users/leowalker/anaconda3/envs/interviewEnv/lib/python3.11/site-packages/tqdm/auto.py:21: TqdmWarning: IProgress not found. Please update jupyter and ipywidgets. See https://ipywidgets.readthedocs.io/en/stable/user_install.html\n",
      "  from .autonotebook import tqdm as notebook_tqdm\n"
     ]
    }
   ],
   "source": [
    "import textwrap\n",
    "import chromadb\n",
    "import numpy as np\n",
    "import pandas as pd\n",
    "\n",
    "import google.generativeai as genai\n",
    "import google.ai.generativelanguage as glm\n",
    "from langchain_google_genai import GoogleGenerativeAIEmbeddings\n",
    "from chromadb import Documents, EmbeddingFunction, Embeddings\n",
    "\n",
    "import os\n",
    "from dotenv import load_dotenv"
   ]
  },
  {
   "cell_type": "code",
   "execution_count": 2,
   "metadata": {},
   "outputs": [],
   "source": [
    "load_dotenv()\n",
    "\n",
    "gemini_api_key = os.getenv(\"GOOGLE_API_KEY\")\n",
    "\n",
    "genai.configure(api_key=gemini_api_key)"
   ]
  },
  {
   "cell_type": "code",
   "execution_count": 6,
   "metadata": {},
   "outputs": [
    {
     "data": {
      "text/plain": [
       "768"
      ]
     },
     "execution_count": 6,
     "metadata": {},
     "output_type": "execute_result"
    }
   ],
   "source": [
    "# testing out gemini embeddings\n",
    "\n",
    "embeddings = GoogleGenerativeAIEmbeddings(model=\"models/embedding-001\")\n",
    "vector = embeddings.embed_query(\"hello, world!\")\n",
    "len(vector)"
   ]
  },
  {
   "cell_type": "code",
   "execution_count": null,
   "metadata": {},
   "outputs": [],
   "source": []
  },
  {
   "cell_type": "markdown",
   "metadata": {},
   "source": [
    "Lets work on chunking the pdfs"
   ]
  },
  {
   "cell_type": "code",
   "execution_count": 6,
   "metadata": {},
   "outputs": [],
   "source": [
    "from langchain_community.document_loaders import PyPDFLoader"
   ]
  },
  {
   "cell_type": "code",
   "execution_count": 10,
   "metadata": {},
   "outputs": [],
   "source": [
    "loader = PyPDFLoader(\"pdfs/Book on VA Loans_ An Essential Guide to Maximizing Your Home Loan Benefits, The - Chris Birk.pdf\")\n",
    "pages = loader.load_and_split()"
   ]
  },
  {
   "cell_type": "code",
   "execution_count": 12,
   "metadata": {},
   "outputs": [
    {
     "data": {
      "text/plain": [
       "Document(page_content='DCHAPTER  1:\\nVA LOANS  IN\\nTODAY’S MARKET\\nespite  t he  rece nt  economic  freefall , homeownership  remains  a\\ncornerstone  of  American  soc iety . Nearly  70 percent  of  citizens  own  a\\nhome , w hich  most  see  as  a  path  toward  wealth  creation  and  ﬁnancial\\nstability . Rates  for  homeownership  among  veterans  are  even  higher ,\\nright  around  82 percent , according  to  the  Mortgage  Bankers\\nAssociation .\\nThe las t  few  years  have  proved  a  mixed  bag  for  homebuyers  and\\nexisting  homeowners . Purchasing  a  home  today  looks  a  b it  dif ferent\\nthan  it  did  six  or  seven  years  ago . For  many  people  it’ s  increasingly\\ndifﬁcult . Borrowers  who  qualify  have  reaped  the  beneﬁts  of\\ngovernment-sponsored  tax  credit  programs  and  record-low  interest\\nrates . At  the  same  time , the  subprime  mortgage  meltdown  and\\nensuing  ﬁnancial  crisis  created  a  restrictive  credit  environment  and\\nmade  it  signiﬁcantly  tougher  for  some  prospective  borrowers  to\\npurchase  homes  or  to  reﬁnance  existing  mortgages .\\nThat  relatively  grim  storyline  isn’t  exactly  the  same  for  military\\nmembers .\\nV A loan s  are  consistently  easier  to  qualify  for  than  other  loan\\nproducts . V eterans  and  service  members  don’t  need  to  hit tough\\ncredit  or  income  guidelines  to  participate  in  the  progra m . In  fact ,\\ncredit  history  plays  less  of  a  role  in  determining  homeownership  for\\nveterans  than  it  does  for  non-V A  borrowers .', metadata={'source': 'pdfs/Book on VA Loans_ An Essential Guide to Maximizing Your Home Loan Benefits, The - Chris Birk.pdf', 'page': 15})"
      ]
     },
     "execution_count": 12,
     "metadata": {},
     "output_type": "execute_result"
    }
   ],
   "source": [
    "pages[14]"
   ]
  },
  {
   "cell_type": "code",
   "execution_count": 13,
   "metadata": {},
   "outputs": [
    {
     "name": "stdout",
     "output_type": "stream",
     "text": [
      "205: Epilogue : Can  You  Help  Us ?\n",
      "Faced  with  an  inﬁnite  uphill  battle , SoCalV AHomes  maintains  an\n",
      "intense  commitment  to  expand  and  ﬁnd  creative  ways  to  serve  those\n",
      "who served  us .\n",
      "The business  model  of  choosing  to  exclusively  serve  active\n",
      "military  and  V eterans  is  a  very\n",
      "18: serving  this  community , certainly  stirred  a  wave  of  patriotic  feelings  in\n",
      "our souls .\n",
      "These  feelings  grew  deeper  until  we  were  on  a  mission . W e\n",
      "executed  several  “fully  custom  renovated  home”  transactions  which\n",
      "were  very , very  difﬁcult . It  was  both  taxing  and  exhi\n"
     ]
    }
   ],
   "source": [
    "from langchain_community.vectorstores import FAISS\n",
    "from langchain_openai import OpenAIEmbeddings\n",
    "\n",
    "faiss_index = FAISS.from_documents(pages, OpenAIEmbeddings())\n",
    "docs = faiss_index.similarity_search(\"How will the community be engaged?\", k=2)\n",
    "for doc in docs:\n",
    "    print(str(doc.metadata[\"page\"]) + \":\", doc.page_content[:300])"
   ]
  },
  {
   "cell_type": "code",
   "execution_count": 15,
   "metadata": {},
   "outputs": [
    {
     "name": "stdout",
     "output_type": "stream",
     "text": [
      "28: the lack  of  higher  V A  loan  limits  –  they  were  ef fectively  locked  out . As\n",
      "home  prices  declined  from  the  peak  in  2006 and  V A loan  limits  were\n",
      "raised , our  market  woke  up ! In  2008, V A  home  buyers  began  coming\n",
      "out from  hiding ! And  in  2011, several  thousand  had  n\n",
      "59: property  and  the  loan  limit . As  an  example , let's  just  say  the  loan  limit\n",
      "is $500,000 and  you  want  to  buy  a  $ 600,000 house . Y ou  could  get  a\n",
      "$575,000 loan  because  you  only  have  to  cover  25% of  the  dif ference\n",
      "between  the  $ 600,000 purchase  price  and  the  $ 500,0\n",
      "32: and others  are  also  eligible . Contact  the  Department  of\n",
      "V eterans  Af fairs  for  more  information .\n",
      "Generally  speaking , when  shopping  for  a  mortgage  loan , you  will\n",
      "ﬁnd four  fundamental  home  loan  categories  that  have  both\n",
      "similarities  and  also  major  dif ferences : convent\n",
      "98: Chapter  14: Gold  Mine  or  Coal  Mine ? The  CalVet\n",
      "Loan\n",
      "Advantages  and  Disadvantages  of  a  CalV et  loan  vs . a  T raditional  V A\n",
      "Home  Loan\n",
      "People  often  call\n",
      "SoCalV AHomes  inquiring  about  the\n",
      "CalV et  loan , wondering  if  it  might  be\n",
      "a good  ﬁt  for  them . Our  answer  is  it\n",
      "migh\n",
      "30: Chapter  2: How  to  Buy  a  Lovely  Home\n",
      "The nuts , bolts , and  key  ingredients  of  a  successful  home  purchase\n",
      "using  your  V A  Home  Loan  Beneﬁt .\n",
      "As an  active  military  service  member  or  as  a  V eteran , you  most\n",
      "likely  have  heard  of  the  V A  Home  Loan  Beneﬁt  and  how  it  \n"
     ]
    }
   ],
   "source": [
    "docs = faiss_index.similarity_search(\"What are the limitations of the VA Loan?\", k=5)\n",
    "for doc in docs:\n",
    "    print(str(doc.metadata[\"page\"]) + \":\", doc.page_content[:300])"
   ]
  },
  {
   "cell_type": "code",
   "execution_count": null,
   "metadata": {},
   "outputs": [],
   "source": []
  }
 ],
 "metadata": {
  "kernelspec": {
   "display_name": "interviewEnv",
   "language": "python",
   "name": "python3"
  },
  "language_info": {
   "codemirror_mode": {
    "name": "ipython",
    "version": 3
   },
   "file_extension": ".py",
   "mimetype": "text/x-python",
   "name": "python",
   "nbconvert_exporter": "python",
   "pygments_lexer": "ipython3",
   "version": "3.11.7"
  }
 },
 "nbformat": 4,
 "nbformat_minor": 2
}
